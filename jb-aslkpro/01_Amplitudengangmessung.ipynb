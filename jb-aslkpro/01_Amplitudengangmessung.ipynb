{
 "cells": [
  {
   "cell_type": "code",
   "execution_count": null,
   "metadata": {},
   "outputs": [],
   "source": [
    "#!/usr/bin/env python3\n",
    "# -*- coding: utf-8 -*-\n",
    "\"\"\"\n",
    "Created on Tue Feb 12 13:16:39 2019\n",
    "```\n",
    "\n",
    "```python\n",
    "@author: Selim Cimen\n",
    "\"\"\""
   ]
  },
  {
   "cell_type": "markdown",
   "metadata": {},
   "source": [
    "Bitte beachten Sie die Messspitzen des Red Pitaya auf das Verhältnis 1:10 einzustellen "
   ]
  },
  {
   "cell_type": "code",
   "execution_count": null,
   "metadata": {},
   "outputs": [],
   "source": [
    "import time \n",
    "import numpy as np\n",
    "from redpitaya import redpitaya_scpi as scpi\n",
    "import matplotlib.pyplot as plt\n",
    "import scipy as sp\n",
    "from scipy import signal"
   ]
  },
  {
   "cell_type": "markdown",
   "metadata": {},
   "source": [
    "Parameter für die Messung"
   ]
  },
  {
   "cell_type": "code",
   "execution_count": null,
   "metadata": {},
   "outputs": [],
   "source": [
    "Start_f = 10             # Start Frequenz der Messung \n",
    "Stop_f = 7000000         # Stop Frequenz der Messung\n",
    "Messpunkte = 35          # Anzahl der gewünschten Messpunkte\n",
    "IP = \"192.168.111.184\"   # IP-Adresse vom Red-Pitaya"
   ]
  },
  {
   "cell_type": "code",
   "execution_count": null,
   "metadata": {},
   "outputs": [],
   "source": [
    "Frequenzen = np.logspace(np.log10(Start_f), np.log10(Stop_f), Messpunkte)  # Erzeugung Messpunkte im Frequenzbereich\n",
    "Wave_form = 'sine'                                    # Wellenform des Eingangssignals\n",
    "Ampl = 1                                              # Amplitude des Eingangssignals\n",
    "Downsampling = \"1\"                                    # Downsamplingrate (decimation factor)\n",
    "Triggerverzoegerung = \"0\"                             # Verzögerung des Triggers \n",
    "Index = 0                                             # Processvariable\n",
    "Data1 = np.zeros(len(Frequenzen))                     # Anlegen eines Vektors für die Messergebnisse\n",
    "Data2 = np.zeros(len(Frequenzen))                     # Anlegen eines Vektors für die Messergebnisse"
   ]
  },
  {
   "cell_type": "code",
   "execution_count": null,
   "metadata": {},
   "outputs": [],
   "source": [
    "Name = input(\"Name der Input Textfile: \") + \".txt\"    # Eingabe des Dateiennamens\n",
    "# Dateiname = \"./data/\" +Name  # Speicherpfad"
   ]
  },
  {
   "cell_type": "code",
   "execution_count": null,
   "metadata": {},
   "outputs": [],
   "source": [
    "rp_s = scpi.scpi(IP)                                  #Verbindung herstellen zum Red Pitaya\n",
    "time.sleep(0.3)\n",
    "rp_s.tx_txt('GEN:RST')                                #Signal Generator reset\n",
    "time.sleep(0.3)\n",
    "rp_s.tx_txt('ACQ:RST')                                #Input reset"
   ]
  },
  {
   "cell_type": "code",
   "execution_count": null,
   "metadata": {},
   "outputs": [],
   "source": [
    "for i in Frequenzen:\n",
    "    \n",
    "    # Signal Generieren\n",
    "    rp_s.tx_txt('SOUR1:FUNC '+ str(Wave_form).upper())  #Wellenform sezten\n",
    "    time.sleep(0.3)\n",
    "    rp_s.tx_txt('SOUR1:VOLT '+ str(Ampl))               #Amplitude setzen\n",
    "    time.sleep(0.3)\n",
    "    rp_s.tx_txt('SOUR1:FREQ:FIX ' + str(i))             #Frequenz setzen\n",
    "    time.sleep(0.3)\n",
    "    rp_s.tx_txt('OUTPUT1:STATE ON')                     #Ausgang am Red Pitaya einschalten\n",
    "    time.sleep(0.3)\n",
    "    \n",
    "\n",
    "    # Trigger variablen sezten    \n",
    "    if (i<=25000):                                      #Downsampling in Abhänigkeit der Frequenz des \n",
    "        Downsampling = \"8\"                              #Eingangssiganls\n",
    "    if (i<1000):\n",
    "        Downsampling = \"64\"\n",
    "    if (i<=100):\n",
    "        Downsampling = \"1024\"\n",
    "    if (i<=20):\n",
    "        Downsampling = \"8192\"\n",
    "    if(i>250000):\n",
    "        Downsampling = \"1\"\n",
    "\n",
    "    #rp_s.tx_txt('ACQ:AVG ' + \"ON\")                     #Average setzen\n",
    "    #time.sleep(0.2)    \n",
    "    rp_s.tx_txt('ACQ:DEC ' + Downsampling)              #Downsampling setzen\n",
    "    time.sleep(0.3)\n",
    "    rp_s.tx_txt('ACQ:TRIG:LEV 0')                       #Triggerlevel setzen\n",
    "    time.sleep(0.3)\n",
    "    rp_s.tx_txt('ACQ:TRIG:DLY ' + Triggerverzoegerung)  #Verzögerung für Trigger setzen\n",
    "    time.sleep(0.3)\n",
    "    rp_s.tx_txt('ACQ:START')                            #Start der Messung\n",
    "    time.sleep(0.3)\n",
    "    rp_s.tx_txt('ACQ:TRIG NOW')                         #Signal Genarator triggern\n",
    "    time.sleep(0.3)\n",
    "    \n",
    "    # Datenerfassung fuer Input 1\n",
    "    \n",
    "    rp_s.tx_txt('ACQ:SOUR1:DATA?')                                                #Auslesen des Buffers auf Input 1\n",
    "    Buffstring1 = rp_s.rx_txt()                                                   #Speichern der Messergebnisse\n",
    "    Buffstring1 = Buffstring1.strip('{}\\n\\r\\E\\R\\!').replace(\"  \", \"\").split(',')  #Zeichen austauschen \n",
    "    Buff1 = np.array(list(map(float, Buffstring1)))                               #von String in float Vektor umwandeln "
   ]
  },
  {
   "cell_type": "code",
   "execution_count": null,
   "metadata": {},
   "outputs": [],
   "source": [
    "    # Datenerfassung fuer Input 2\n",
    "    rp_s.tx_txt('ACQ:SOUR2:DATA?')                                                #Auslesen des Buffers auf Input 2\n",
    "    Buffstring2 = rp_s.rx_txt()                                                   #Speichern der Messergebnisse\n",
    "    Buffstring2 = Buffstring2.strip('{}\\n\\r\\E\\R\\!').replace(\"  \", \"\").split(',')  #Zeichen austauschen \n",
    "    Buff2 = np.array(list(map(float, Buffstring2)))                               #von String in float Vektor umwandeln\n",
    "    \n",
    "    # ohne offset am Ausgang wichtig eine Variante auskommentieren!\n",
    "    #V_in = np.array(abs(Buff1))\n",
    "    #V_out = np.array(abs(Buff2))\n",
    "    #V_in = sum(V_in)/16384\n",
    "    #V_out = sum(V_out)/16384\n",
    "    \n",
    "    # mit offset am Ausgang wichtig eine Variante auskommentieren!\n",
    "    V_in = np.amax(Buff1)-np.amin(Buff1)\n",
    "    V_out = np.amax(Buff2)-np.amin(Buff2)\n",
    "    \n",
    "    # Amplitudengang ermitteln\n",
    "    Data1[Index] = V_out/V_in                               # Verhältnis von Ausgang zu Eingang speichern\n",
    "    Data2[Index] = 20*np.log10(V_out/V_in)                  # Verhältnis in dB von Ausgang zu Eingang speichern\n",
    "    Index+=1                                                # Processvariable um eins erhöhen\n",
    "    v = int(Index/Messpunkte*100)                           # Ermittlung des Fortschritts der Messung\n",
    "    print(\"Fortschritt der Messung: \",v,\"%\")                # Ausgabe des Fortschritts\n",
    "    \n",
    "    if (v < 11):                                            # LED's auf dem Red Pitaya ansteuern: Statusanzeige\n",
    "        rp_s.tx_txt('DIG:PIN LED' + str(0) + ',' + str(1))\n",
    "    if (v > 22):                                          \n",
    "        rp_s.tx_txt('DIG:PIN LED' + str(1) + ',' + str(1))\n",
    "    if (v > 33):                                          \n",
    "        rp_s.tx_txt('DIG:PIN LED' + str(2) + ',' + str(1))\n",
    "    if (v > 44):                                          \n",
    "        rp_s.tx_txt('DIG:PIN LED' + str(3) + ',' + str(1))\n",
    "    if (v > 55):                                          \n",
    "        rp_s.tx_txt('DIG:PIN LED' + str(4) + ',' + str(1))\n",
    "    if (v > 66):                                          \n",
    "        rp_s.tx_txt('DIG:PIN LED' + str(5) + ',' + str(1))\n",
    "    if (v > 77):                                          \n",
    "        rp_s.tx_txt('DIG:PIN LED' + str(6) + ',' + str(1))\n",
    "    if (v > 88):                                          \n",
    "        rp_s.tx_txt('DIG:PIN LED' + str(7) + ',' + str(1))\n",
    "    if (v > 96):                                          \n",
    "        rp_s.tx_txt('DIG:PIN LED' + str(8) + ',' + str(1))"
   ]
  },
  {
   "cell_type": "code",
   "execution_count": null,
   "metadata": {},
   "outputs": [],
   "source": [
    "Werte = np.matrix([Frequenzen,Data1,Data2]).transpose()     # Messfrequenzen und Messergebnisse speichern\n",
    "np.savetxt(Name, Werte)                                # Als Datei speichern\n",
    "rp_s.tx_txt('OUTPUT1:STATE OFF')                            # Ausgang des Red Pitayas ausschalten\n",
    "print(\"Messung beendet\")"
   ]
  },
  {
   "cell_type": "code",
   "execution_count": null,
   "metadata": {},
   "outputs": [],
   "source": [
    "for k in range(8):\n",
    "    rp_s.tx_txt('DIG:PIN LED' + str(k) + ',' + str(0))      # LED's ausschalten\n",
    "    time.sleep(0.1)"
   ]
  },
  {
   "cell_type": "code",
   "execution_count": null,
   "metadata": {},
   "outputs": [],
   "source": [
    "Data2 = sp.signal.medfilt(Data2, 3)"
   ]
  },
  {
   "cell_type": "markdown",
   "metadata": {},
   "source": [
    "Plot der Messung"
   ]
  },
  {
   "cell_type": "code",
   "execution_count": null,
   "metadata": {},
   "outputs": [],
   "source": [
    "plt.figure(1)\n",
    "plt.semilogx(Frequenzen[1:], Data2[1:])\n",
    "plt.grid()\n",
    "plt.xlabel('Frequency f/Hz')\n",
    "plt.ylabel('Magnitude A/dB')\n",
    "plt.show()"
   ]
  }
 ],
 "metadata": {
  "kernelspec": {
   "display_name": "Python 3",
   "language": "python",
   "name": "python3"
  },
  "language_info": {
   "codemirror_mode": {
    "name": "ipython",
    "version": 3
   },
   "file_extension": ".py",
   "mimetype": "text/x-python",
   "name": "python",
   "nbconvert_exporter": "python",
   "pygments_lexer": "ipython3",
   "version": "3.6.4"
  }
 },
 "nbformat": 4,
 "nbformat_minor": 2
}
